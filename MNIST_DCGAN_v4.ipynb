{
  "nbformat": 4,
  "nbformat_minor": 0,
  "metadata": {
    "colab": {
      "name": "MNIST_DCGAN_v3.ipynb",
      "provenance": [],
      "collapsed_sections": [],
      "authorship_tag": "ABX9TyOfy4oYHDC9DGhuS4QZtheT",
      "include_colab_link": true
    },
    "kernelspec": {
      "name": "python3",
      "display_name": "Python 3"
    },
    "accelerator": "GPU"
  },
  "cells": [
    {
      "cell_type": "markdown",
      "metadata": {
        "id": "view-in-github",
        "colab_type": "text"
      },
      "source": [
        "<a href=\"https://colab.research.google.com/github/michaelhk101/Other-projects_/blob/master/MNIST_DCGAN_v4.ipynb\" target=\"_parent\"><img src=\"https://colab.research.google.com/assets/colab-badge.svg\" alt=\"Open In Colab\"/></a>"
      ]
    },
    {
      "cell_type": "markdown",
      "metadata": {
        "id": "l7FA9TIL6Qn2",
        "colab_type": "text"
      },
      "source": [
        "#DCGAN"
      ]
    },
    {
      "cell_type": "markdown",
      "metadata": {
        "id": "Zdn1ngAV02vW",
        "colab_type": "text"
      },
      "source": [
        "##Import required Library"
      ]
    },
    {
      "cell_type": "markdown",
      "metadata": {
        "id": "UAsczCjV5zw-",
        "colab_type": "text"
      },
      "source": [
        "We first check if tensorflow 2.x is used. If not, just uninstall tensorflow 1.x and then reinstall tensorflow 2.0."
      ]
    },
    {
      "cell_type": "code",
      "metadata": {
        "id": "hiNlHzX62sP1",
        "colab_type": "code",
        "colab": {}
      },
      "source": [
        "import tensorflow as tf\n",
        "import os\n",
        "\n",
        "if int(tf.__version__[0]) < 2:\n",
        "  !pip uninstall tensorflow -y\n",
        "  !pip install tensorflow\n",
        "  os.kill(os.getpid(), 9)"
      ],
      "execution_count": 0,
      "outputs": []
    },
    {
      "cell_type": "code",
      "metadata": {
        "id": "wt6m7fyC1-SK",
        "colab_type": "code",
        "colab": {}
      },
      "source": [
        "import tensorflow as tf\n",
        "from tensorflow.keras.datasets import mnist\n",
        "from tensorflow.keras.layers import Dense, Flatten, Reshape, BatchNormalization, Conv2DTranspose, LeakyReLU, Conv2D, Dropout\n",
        "from tensorflow.keras.optimizers import SGD\n",
        "from tensorflow.keras.models import Sequential\n",
        "import numpy as np\n",
        "import pandas as pd\n",
        "import matplotlib.pyplot as plt\n"
      ],
      "execution_count": 0,
      "outputs": []
    },
    {
      "cell_type": "markdown",
      "metadata": {
        "id": "Vza0tcaE1Abj",
        "colab_type": "text"
      },
      "source": [
        "##Model"
      ]
    },
    {
      "cell_type": "markdown",
      "metadata": {
        "id": "joSn_cOs1D-T",
        "colab_type": "text"
      },
      "source": [
        "To re-generate the same result, we use seeds of 42 in both numpy and tensorflow."
      ]
    },
    {
      "cell_type": "code",
      "metadata": {
        "id": "pQYfwGxW3nkS",
        "colab_type": "code",
        "colab": {}
      },
      "source": [
        "np.random.seed(42)\n",
        "tf.random.set_seed(42)\n",
        "coding_size=100"
      ],
      "execution_count": 0,
      "outputs": []
    },
    {
      "cell_type": "markdown",
      "metadata": {
        "id": "c3OvJcD_1vSU",
        "colab_type": "text"
      },
      "source": [
        "The generator gives fake images with shape [28,28,1] from noise with shape[100]."
      ]
    },
    {
      "cell_type": "code",
      "metadata": {
        "id": "PhtLZiAE39uR",
        "colab_type": "code",
        "outputId": "fd7c2829-a80a-446f-969d-c466472ecfdd",
        "colab": {
          "base_uri": "https://localhost:8080/",
          "height": 433
        }
      },
      "source": [
        "generator=Sequential()\n",
        "generator.add(Dense(7*7*128, input_shape=[coding_size]))\n",
        "generator.add(Reshape([7,7,128]))\n",
        "generator.add(BatchNormalization())\n",
        "generator.add(Conv2DTranspose(64,5,strides=1,padding='same',\n",
        "                              activation='relu'))\n",
        "generator.add(BatchNormalization())\n",
        "\n",
        "generator.add(Conv2DTranspose(16,5,strides=2,padding='same',\n",
        "                              activation='relu'))\n",
        "generator.add(BatchNormalization())\n",
        "\n",
        "generator.add(Conv2DTranspose(1,5,strides=2,padding='same',\n",
        "                              activation='tanh'))\n",
        "generator.summary()"
      ],
      "execution_count": 4,
      "outputs": [
        {
          "output_type": "stream",
          "text": [
            "Model: \"sequential\"\n",
            "_________________________________________________________________\n",
            "Layer (type)                 Output Shape              Param #   \n",
            "=================================================================\n",
            "dense (Dense)                (None, 6272)              633472    \n",
            "_________________________________________________________________\n",
            "reshape (Reshape)            (None, 7, 7, 128)         0         \n",
            "_________________________________________________________________\n",
            "batch_normalization (BatchNo (None, 7, 7, 128)         512       \n",
            "_________________________________________________________________\n",
            "conv2d_transpose (Conv2DTran (None, 7, 7, 64)          204864    \n",
            "_________________________________________________________________\n",
            "batch_normalization_1 (Batch (None, 7, 7, 64)          256       \n",
            "_________________________________________________________________\n",
            "conv2d_transpose_1 (Conv2DTr (None, 14, 14, 16)        25616     \n",
            "_________________________________________________________________\n",
            "batch_normalization_2 (Batch (None, 14, 14, 16)        64        \n",
            "_________________________________________________________________\n",
            "conv2d_transpose_2 (Conv2DTr (None, 28, 28, 1)         401       \n",
            "=================================================================\n",
            "Total params: 865,185\n",
            "Trainable params: 864,769\n",
            "Non-trainable params: 416\n",
            "_________________________________________________________________\n"
          ],
          "name": "stdout"
        }
      ]
    },
    {
      "cell_type": "markdown",
      "metadata": {
        "id": "bs8ax7c12mXG",
        "colab_type": "text"
      },
      "source": [
        "The discriminator takes images with shape [28,28,1] and classify whether the images are real."
      ]
    },
    {
      "cell_type": "code",
      "metadata": {
        "id": "Qdmi1VOG4pLN",
        "colab_type": "code",
        "outputId": "8e91b678-2b4c-49e3-b326-ee6920c0655a",
        "colab": {
          "base_uri": "https://localhost:8080/",
          "height": 433
        }
      },
      "source": [
        "discriminator=Sequential()\n",
        "\n",
        "discriminator.add(Conv2D(64,5,2,\n",
        "                         input_shape=[28,28,1],padding='same'))\n",
        "discriminator.add(LeakyReLU(0.3))\n",
        "discriminator.add(Dropout(0.5))\n",
        "\n",
        "discriminator.add(Conv2D(128,5,2,padding='same'))\n",
        "discriminator.add(LeakyReLU(0.3))\n",
        "discriminator.add(Dropout(0.5))\n",
        "\n",
        "discriminator.add(Flatten())\n",
        "discriminator.add(Dense(1, activation='sigmoid'))\n",
        "discriminator.summary()"
      ],
      "execution_count": 5,
      "outputs": [
        {
          "output_type": "stream",
          "text": [
            "Model: \"sequential_1\"\n",
            "_________________________________________________________________\n",
            "Layer (type)                 Output Shape              Param #   \n",
            "=================================================================\n",
            "conv2d (Conv2D)              (None, 14, 14, 64)        1664      \n",
            "_________________________________________________________________\n",
            "leaky_re_lu (LeakyReLU)      (None, 14, 14, 64)        0         \n",
            "_________________________________________________________________\n",
            "dropout (Dropout)            (None, 14, 14, 64)        0         \n",
            "_________________________________________________________________\n",
            "conv2d_1 (Conv2D)            (None, 7, 7, 128)         204928    \n",
            "_________________________________________________________________\n",
            "leaky_re_lu_1 (LeakyReLU)    (None, 7, 7, 128)         0         \n",
            "_________________________________________________________________\n",
            "dropout_1 (Dropout)          (None, 7, 7, 128)         0         \n",
            "_________________________________________________________________\n",
            "flatten (Flatten)            (None, 6272)              0         \n",
            "_________________________________________________________________\n",
            "dense_1 (Dense)              (None, 1)                 6273      \n",
            "=================================================================\n",
            "Total params: 212,865\n",
            "Trainable params: 212,865\n",
            "Non-trainable params: 0\n",
            "_________________________________________________________________\n"
          ],
          "name": "stdout"
        }
      ]
    },
    {
      "cell_type": "markdown",
      "metadata": {
        "id": "mH620fAP3J2n",
        "colab_type": "text"
      },
      "source": [
        "We use binary_crossentropy as the loss function to train the discriminator."
      ]
    },
    {
      "cell_type": "code",
      "metadata": {
        "id": "94SOWuhOn45M",
        "colab_type": "code",
        "colab": {}
      },
      "source": [
        "discriminator.compile(loss=\"binary_crossentropy\", optimizer=\"adam\")"
      ],
      "execution_count": 0,
      "outputs": []
    },
    {
      "cell_type": "markdown",
      "metadata": {
        "id": "mIQx-pwq3Ucm",
        "colab_type": "text"
      },
      "source": [
        "The DCGAN is given by concatenation of the generator and the discriminator."
      ]
    },
    {
      "cell_type": "code",
      "metadata": {
        "id": "M1osyA1d5R0n",
        "colab_type": "code",
        "outputId": "8ed09334-17e3-4377-e169-1aa031ad899c",
        "colab": {
          "base_uri": "https://localhost:8080/",
          "height": 225
        }
      },
      "source": [
        "GAN=Sequential([generator, discriminator])\n",
        "GAN.summary()"
      ],
      "execution_count": 7,
      "outputs": [
        {
          "output_type": "stream",
          "text": [
            "Model: \"sequential_2\"\n",
            "_________________________________________________________________\n",
            "Layer (type)                 Output Shape              Param #   \n",
            "=================================================================\n",
            "sequential (Sequential)      (None, 28, 28, 1)         865185    \n",
            "_________________________________________________________________\n",
            "sequential_1 (Sequential)    (None, 1)                 212865    \n",
            "=================================================================\n",
            "Total params: 1,078,050\n",
            "Trainable params: 1,077,634\n",
            "Non-trainable params: 416\n",
            "_________________________________________________________________\n"
          ],
          "name": "stdout"
        }
      ]
    },
    {
      "cell_type": "markdown",
      "metadata": {
        "id": "UelxKQri3mG8",
        "colab_type": "text"
      },
      "source": [
        "When the generator is trained, the parameters of the discriminator are fixed. Therefore, we set the discrminator.trainable to be False. Again, the loss function is binary_crossentropy."
      ]
    },
    {
      "cell_type": "code",
      "metadata": {
        "id": "O5A3AWjpdMRZ",
        "colab_type": "code",
        "colab": {}
      },
      "source": [
        "discriminator.trainable=False\n",
        "GAN.compile(loss=\"binary_crossentropy\", optimizer=\"adam\")"
      ],
      "execution_count": 0,
      "outputs": []
    },
    {
      "cell_type": "markdown",
      "metadata": {
        "id": "2pUtcQa40qeG",
        "colab_type": "text"
      },
      "source": [
        "##Preparation of data"
      ]
    },
    {
      "cell_type": "markdown",
      "metadata": {
        "id": "Ai-ZzZ-Q07bL",
        "colab_type": "text"
      },
      "source": [
        "We import the MNIST dataset from keras"
      ]
    },
    {
      "cell_type": "code",
      "metadata": {
        "id": "5yAWTbWJ25WQ",
        "colab_type": "code",
        "colab": {}
      },
      "source": [
        "(X_train,y_train), (X_test,y_test)=mnist.load_data()\n",
        "X_train=(X_train.reshape((X_train.shape[0],28,28,1)).astype(np.float32)-127.5)/127.5"
      ],
      "execution_count": 0,
      "outputs": []
    },
    {
      "cell_type": "markdown",
      "metadata": {
        "id": "mIaWe7ZD4SGO",
        "colab_type": "text"
      },
      "source": [
        "We then set up the batch size and number of epochs for training."
      ]
    },
    {
      "cell_type": "code",
      "metadata": {
        "id": "NO9gAc0U5pdg",
        "colab_type": "code",
        "colab": {}
      },
      "source": [
        "batch_size=256"
      ],
      "execution_count": 0,
      "outputs": []
    },
    {
      "cell_type": "code",
      "metadata": {
        "id": "-EWHAotL5vgY",
        "colab_type": "code",
        "colab": {}
      },
      "source": [
        "dataset=tf.data.Dataset.from_tensor_slices(X_train).shuffle(buffer_size=60000)"
      ],
      "execution_count": 0,
      "outputs": []
    },
    {
      "cell_type": "code",
      "metadata": {
        "id": "b650nCy0-Ib_",
        "colab_type": "code",
        "colab": {}
      },
      "source": [
        "dataset=dataset.batch(batch_size, drop_remainder=True).prefetch(1)"
      ],
      "execution_count": 0,
      "outputs": []
    },
    {
      "cell_type": "code",
      "metadata": {
        "id": "v0VAV-iwRfSq",
        "colab_type": "code",
        "colab": {}
      },
      "source": [
        "epochs=200"
      ],
      "execution_count": 0,
      "outputs": []
    },
    {
      "cell_type": "markdown",
      "metadata": {
        "colab_type": "text",
        "id": "Xy8-F3St4tcv"
      },
      "source": [
        "##Training the model"
      ]
    },
    {
      "cell_type": "code",
      "metadata": {
        "id": "h_NFbIMWot4G",
        "colab_type": "code",
        "outputId": "068e7963-11b8-4a36-ae4a-0dbdb7ca63d7",
        "colab": {
          "base_uri": "https://localhost:8080/",
          "height": 415
        }
      },
      "source": [
        "generator, discriminator = GAN.layers\n",
        "print_frequency=10\n",
        "\n",
        "for epoch in range(epochs):\n",
        "  if (epoch%print_frequency==(print_frequency-1)):\n",
        "    print(f\"Currently on Epoch {epoch+1}\")\n",
        "  i=0\n",
        "  for X_batch in dataset:\n",
        "    i = i+1\n",
        "    #if(i%20==0 and epoch%print_frequency==(print_frequency-1)):\n",
        "    #  print(f\"\\tCurrently on batch number {i} of {len(my_data)//batch_size}\")\n",
        "    \n",
        "    noise=tf.random.normal(shape=[batch_size,coding_size])\n",
        "    gen_image=generator(noise)\n",
        "    X_fake_vs_real=tf.concat([gen_image,tf.cast(X_batch,tf.float32)],axis=0)\n",
        "\n",
        "    y1=tf.constant([[0.]]*batch_size+[[1.]]*batch_size)\n",
        "    discriminator.trainable=True\n",
        "\n",
        "    discriminator.train_on_batch(X_fake_vs_real,y1)\n",
        "\n",
        "    noise=tf.random.normal(shape=[batch_size,coding_size])\n",
        "    y2=tf.constant([[1.]]*batch_size)\n",
        "    discriminator.trainable=False\n",
        "\n",
        "    GAN.train_on_batch(noise,y2)\n",
        "print(\"TRAINING COMPLETE\")"
      ],
      "execution_count": 14,
      "outputs": [
        {
          "output_type": "stream",
          "text": [
            "Currently on Epoch 10\n",
            "Currently on Epoch 20\n",
            "Currently on Epoch 30\n"
          ],
          "name": "stdout"
        },
        {
          "output_type": "error",
          "ename": "KeyboardInterrupt",
          "evalue": "ignored",
          "traceback": [
            "\u001b[0;31m---------------------------------------------------------------------------\u001b[0m",
            "\u001b[0;31mKeyboardInterrupt\u001b[0m                         Traceback (most recent call last)",
            "\u001b[0;32m<ipython-input-14-e06b225a2f9b>\u001b[0m in \u001b[0;36m<module>\u001b[0;34m()\u001b[0m\n\u001b[1;32m     24\u001b[0m     \u001b[0mdiscriminator\u001b[0m\u001b[0;34m.\u001b[0m\u001b[0mtrainable\u001b[0m\u001b[0;34m=\u001b[0m\u001b[0;32mFalse\u001b[0m\u001b[0;34m\u001b[0m\u001b[0;34m\u001b[0m\u001b[0m\n\u001b[1;32m     25\u001b[0m \u001b[0;34m\u001b[0m\u001b[0m\n\u001b[0;32m---> 26\u001b[0;31m     \u001b[0mGAN\u001b[0m\u001b[0;34m.\u001b[0m\u001b[0mtrain_on_batch\u001b[0m\u001b[0;34m(\u001b[0m\u001b[0mnoise\u001b[0m\u001b[0;34m,\u001b[0m\u001b[0my2\u001b[0m\u001b[0;34m)\u001b[0m\u001b[0;34m\u001b[0m\u001b[0;34m\u001b[0m\u001b[0m\n\u001b[0m\u001b[1;32m     27\u001b[0m \u001b[0mprint\u001b[0m\u001b[0;34m(\u001b[0m\u001b[0;34m\"TRAINING COMPLETE\"\u001b[0m\u001b[0;34m)\u001b[0m\u001b[0;34m\u001b[0m\u001b[0;34m\u001b[0m\u001b[0m\n",
            "\u001b[0;32m/usr/local/lib/python3.6/dist-packages/tensorflow_core/python/keras/engine/training.py\u001b[0m in \u001b[0;36mtrain_on_batch\u001b[0;34m(self, x, y, sample_weight, class_weight, reset_metrics)\u001b[0m\n\u001b[1;32m   1076\u001b[0m           \u001b[0mself\u001b[0m\u001b[0;34m,\u001b[0m \u001b[0mx\u001b[0m\u001b[0;34m,\u001b[0m \u001b[0my\u001b[0m\u001b[0;34m=\u001b[0m\u001b[0my\u001b[0m\u001b[0;34m,\u001b[0m \u001b[0msample_weight\u001b[0m\u001b[0;34m=\u001b[0m\u001b[0msample_weight\u001b[0m\u001b[0;34m,\u001b[0m\u001b[0;34m\u001b[0m\u001b[0;34m\u001b[0m\u001b[0m\n\u001b[1;32m   1077\u001b[0m           \u001b[0mclass_weight\u001b[0m\u001b[0;34m=\u001b[0m\u001b[0mclass_weight\u001b[0m\u001b[0;34m,\u001b[0m \u001b[0mreset_metrics\u001b[0m\u001b[0;34m=\u001b[0m\u001b[0mreset_metrics\u001b[0m\u001b[0;34m,\u001b[0m\u001b[0;34m\u001b[0m\u001b[0;34m\u001b[0m\u001b[0m\n\u001b[0;32m-> 1078\u001b[0;31m           standalone=True)\n\u001b[0m\u001b[1;32m   1079\u001b[0m       outputs = (outputs['total_loss'] + outputs['output_losses'] +\n\u001b[1;32m   1080\u001b[0m                  outputs['metrics'])\n",
            "\u001b[0;32m/usr/local/lib/python3.6/dist-packages/tensorflow_core/python/keras/engine/training_v2_utils.py\u001b[0m in \u001b[0;36mtrain_on_batch\u001b[0;34m(model, x, y, sample_weight, class_weight, reset_metrics, standalone)\u001b[0m\n\u001b[1;32m    436\u001b[0m     \u001b[0mmodel\u001b[0m\u001b[0;34m.\u001b[0m\u001b[0mreset_metrics\u001b[0m\u001b[0;34m(\u001b[0m\u001b[0;34m)\u001b[0m\u001b[0;34m\u001b[0m\u001b[0;34m\u001b[0m\u001b[0m\n\u001b[1;32m    437\u001b[0m \u001b[0;34m\u001b[0m\u001b[0m\n\u001b[0;32m--> 438\u001b[0;31m   \u001b[0moutputs\u001b[0m\u001b[0;34m[\u001b[0m\u001b[0;34m'batch_size'\u001b[0m\u001b[0;34m]\u001b[0m \u001b[0;34m=\u001b[0m \u001b[0mmath_ops\u001b[0m\u001b[0;34m.\u001b[0m\u001b[0mcast\u001b[0m\u001b[0;34m(\u001b[0m\u001b[0mbatch_size\u001b[0m\u001b[0;34m,\u001b[0m \u001b[0mdtypes\u001b[0m\u001b[0;34m.\u001b[0m\u001b[0mint64\u001b[0m\u001b[0;34m)\u001b[0m\u001b[0;34m\u001b[0m\u001b[0;34m\u001b[0m\u001b[0m\n\u001b[0m\u001b[1;32m    439\u001b[0m   \u001b[0;32mreturn\u001b[0m \u001b[0moutputs\u001b[0m\u001b[0;34m\u001b[0m\u001b[0;34m\u001b[0m\u001b[0m\n\u001b[1;32m    440\u001b[0m \u001b[0;34m\u001b[0m\u001b[0m\n",
            "\u001b[0;32m/usr/local/lib/python3.6/dist-packages/tensorflow_core/python/util/dispatch.py\u001b[0m in \u001b[0;36mwrapper\u001b[0;34m(*args, **kwargs)\u001b[0m\n\u001b[1;32m    178\u001b[0m     \u001b[0;34m\"\"\"Call target, and fall back on dispatchers if there is a TypeError.\"\"\"\u001b[0m\u001b[0;34m\u001b[0m\u001b[0;34m\u001b[0m\u001b[0m\n\u001b[1;32m    179\u001b[0m     \u001b[0;32mtry\u001b[0m\u001b[0;34m:\u001b[0m\u001b[0;34m\u001b[0m\u001b[0;34m\u001b[0m\u001b[0m\n\u001b[0;32m--> 180\u001b[0;31m       \u001b[0;32mreturn\u001b[0m \u001b[0mtarget\u001b[0m\u001b[0;34m(\u001b[0m\u001b[0;34m*\u001b[0m\u001b[0margs\u001b[0m\u001b[0;34m,\u001b[0m \u001b[0;34m**\u001b[0m\u001b[0mkwargs\u001b[0m\u001b[0;34m)\u001b[0m\u001b[0;34m\u001b[0m\u001b[0;34m\u001b[0m\u001b[0m\n\u001b[0m\u001b[1;32m    181\u001b[0m     \u001b[0;32mexcept\u001b[0m \u001b[0;34m(\u001b[0m\u001b[0mTypeError\u001b[0m\u001b[0;34m,\u001b[0m \u001b[0mValueError\u001b[0m\u001b[0;34m)\u001b[0m\u001b[0;34m:\u001b[0m\u001b[0;34m\u001b[0m\u001b[0;34m\u001b[0m\u001b[0m\n\u001b[1;32m    182\u001b[0m       \u001b[0;31m# Note: convert_to_eager_tensor currently raises a ValueError, not a\u001b[0m\u001b[0;34m\u001b[0m\u001b[0;34m\u001b[0m\u001b[0;34m\u001b[0m\u001b[0m\n",
            "\u001b[0;32m/usr/local/lib/python3.6/dist-packages/tensorflow_core/python/ops/math_ops.py\u001b[0m in \u001b[0;36mcast\u001b[0;34m(x, dtype, name)\u001b[0m\n\u001b[1;32m    705\u001b[0m       \u001b[0mx\u001b[0m \u001b[0;34m=\u001b[0m \u001b[0mops\u001b[0m\u001b[0;34m.\u001b[0m\u001b[0mconvert_to_tensor\u001b[0m\u001b[0;34m(\u001b[0m\u001b[0mx\u001b[0m\u001b[0;34m,\u001b[0m \u001b[0mname\u001b[0m\u001b[0;34m=\u001b[0m\u001b[0;34m\"x\"\u001b[0m\u001b[0;34m)\u001b[0m\u001b[0;34m\u001b[0m\u001b[0;34m\u001b[0m\u001b[0m\n\u001b[1;32m    706\u001b[0m       \u001b[0;32mif\u001b[0m \u001b[0mx\u001b[0m\u001b[0;34m.\u001b[0m\u001b[0mdtype\u001b[0m\u001b[0;34m.\u001b[0m\u001b[0mbase_dtype\u001b[0m \u001b[0;34m!=\u001b[0m \u001b[0mbase_type\u001b[0m\u001b[0;34m:\u001b[0m\u001b[0;34m\u001b[0m\u001b[0;34m\u001b[0m\u001b[0m\n\u001b[0;32m--> 707\u001b[0;31m         \u001b[0mx\u001b[0m \u001b[0;34m=\u001b[0m \u001b[0mgen_math_ops\u001b[0m\u001b[0;34m.\u001b[0m\u001b[0mcast\u001b[0m\u001b[0;34m(\u001b[0m\u001b[0mx\u001b[0m\u001b[0;34m,\u001b[0m \u001b[0mbase_type\u001b[0m\u001b[0;34m,\u001b[0m \u001b[0mname\u001b[0m\u001b[0;34m=\u001b[0m\u001b[0mname\u001b[0m\u001b[0;34m)\u001b[0m\u001b[0;34m\u001b[0m\u001b[0;34m\u001b[0m\u001b[0m\n\u001b[0m\u001b[1;32m    708\u001b[0m     \u001b[0;32mif\u001b[0m \u001b[0mx\u001b[0m\u001b[0;34m.\u001b[0m\u001b[0mdtype\u001b[0m\u001b[0;34m.\u001b[0m\u001b[0mis_complex\u001b[0m \u001b[0;32mand\u001b[0m \u001b[0mbase_type\u001b[0m\u001b[0;34m.\u001b[0m\u001b[0mis_floating\u001b[0m\u001b[0;34m:\u001b[0m\u001b[0;34m\u001b[0m\u001b[0;34m\u001b[0m\u001b[0m\n\u001b[1;32m    709\u001b[0m       \u001b[0mlogging\u001b[0m\u001b[0;34m.\u001b[0m\u001b[0mwarn\u001b[0m\u001b[0;34m(\u001b[0m\u001b[0;34m\"Casting complex to real discards imaginary part.\"\u001b[0m\u001b[0;34m)\u001b[0m\u001b[0;34m\u001b[0m\u001b[0;34m\u001b[0m\u001b[0m\n",
            "\u001b[0;32m/usr/local/lib/python3.6/dist-packages/tensorflow_core/python/ops/gen_math_ops.py\u001b[0m in \u001b[0;36mcast\u001b[0;34m(x, DstT, Truncate, name)\u001b[0m\n\u001b[1;32m   1960\u001b[0m       _result = _pywrap_tensorflow.TFE_Py_FastPathExecute(\n\u001b[1;32m   1961\u001b[0m         \u001b[0m_ctx\u001b[0m\u001b[0;34m.\u001b[0m\u001b[0m_context_handle\u001b[0m\u001b[0;34m,\u001b[0m \u001b[0mtld\u001b[0m\u001b[0;34m.\u001b[0m\u001b[0mdevice_name\u001b[0m\u001b[0;34m,\u001b[0m \u001b[0;34m\"Cast\"\u001b[0m\u001b[0;34m,\u001b[0m \u001b[0mname\u001b[0m\u001b[0;34m,\u001b[0m \u001b[0mtld\u001b[0m\u001b[0;34m.\u001b[0m\u001b[0mop_callbacks\u001b[0m\u001b[0;34m,\u001b[0m\u001b[0;34m\u001b[0m\u001b[0;34m\u001b[0m\u001b[0m\n\u001b[0;32m-> 1962\u001b[0;31m         x, \"DstT\", DstT, \"Truncate\", Truncate)\n\u001b[0m\u001b[1;32m   1963\u001b[0m       \u001b[0;32mreturn\u001b[0m \u001b[0m_result\u001b[0m\u001b[0;34m\u001b[0m\u001b[0;34m\u001b[0m\u001b[0m\n\u001b[1;32m   1964\u001b[0m     \u001b[0;32mexcept\u001b[0m \u001b[0m_core\u001b[0m\u001b[0;34m.\u001b[0m\u001b[0m_FallbackException\u001b[0m\u001b[0;34m:\u001b[0m\u001b[0;34m\u001b[0m\u001b[0;34m\u001b[0m\u001b[0m\n",
            "\u001b[0;31mKeyboardInterrupt\u001b[0m: "
          ]
        }
      ]
    },
    {
      "cell_type": "markdown",
      "metadata": {
        "id": "A7-2k1i4M2Tt",
        "colab_type": "text"
      },
      "source": [
        "Then, we save our model"
      ]
    },
    {
      "cell_type": "code",
      "metadata": {
        "colab_type": "code",
        "id": "SvdRi1NsLlZN",
        "colab": {}
      },
      "source": [
        "GAN.save(\"DCGAN.h5\")"
      ],
      "execution_count": 0,
      "outputs": []
    },
    {
      "cell_type": "code",
      "metadata": {
        "id": "BxSMefAdfOmR",
        "colab_type": "code",
        "colab": {}
      },
      "source": [
        "from google.colab import files\n",
        "files.download(\"DCGAN.h5\")"
      ],
      "execution_count": 0,
      "outputs": []
    },
    {
      "cell_type": "markdown",
      "metadata": {
        "id": "6Y_x9XWJ49Am",
        "colab_type": "text"
      },
      "source": [
        "##Generation of image from the DCGAN model"
      ]
    },
    {
      "cell_type": "markdown",
      "metadata": {
        "id": "bMQtyga95CyS",
        "colab_type": "text"
      },
      "source": [
        "We pick some random noise with tf.random.normal"
      ]
    },
    {
      "cell_type": "code",
      "metadata": {
        "id": "Hcdl9vwnqjYq",
        "colab_type": "code",
        "colab": {}
      },
      "source": [
        "noise=tf.random.normal(shape=[100,coding_size])"
      ],
      "execution_count": 0,
      "outputs": []
    },
    {
      "cell_type": "markdown",
      "metadata": {
        "id": "0v5nZxdW5I63",
        "colab_type": "text"
      },
      "source": [
        "DCGAN generates images from the noise. We can then display the images with plt.imshow."
      ]
    },
    {
      "cell_type": "code",
      "metadata": {
        "id": "uzll4Gnzs65T",
        "colab_type": "code",
        "colab": {}
      },
      "source": [
        "images=generator(noise)"
      ],
      "execution_count": 0,
      "outputs": []
    },
    {
      "cell_type": "code",
      "metadata": {
        "id": "w3dP9zUts9Ry",
        "colab_type": "code",
        "colab": {}
      },
      "source": [
        "fig, ax = plt.subplots(10,10)\n",
        "fig.set_size_inches(15,15)\n",
        "for i,image in enumerate(images):\n",
        "  ax[i//10,i%10].axis('off')\n",
        "  ax[i//10,i%10].imshow(image.numpy().reshape(28,28))"
      ],
      "execution_count": 0,
      "outputs": []
    }
  ]
}